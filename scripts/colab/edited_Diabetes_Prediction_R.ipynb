{
  "cells": [
    {
      "cell_type": "markdown",
      "metadata": {
        "colab_type": "text",
        "id": "view-in-github"
      },
      "source": [
        "<a href=\"https://colab.research.google.com/github/sofiahanim/diabetespredictionregressionclassification/blob/main/Diabetes_Prediction_R.ipynb\" target=\"_parent\"><img src=\"https://colab.research.google.com/assets/colab-badge.svg\" alt=\"Open In Colab\"/></a>"
      ]
    },
    {
      "cell_type": "markdown",
      "metadata": {
        "id": "RLutkeTbCoD3"
      },
      "source": [
        "# **EDA**"
      ]
    },
    {
      "cell_type": "code",
      "execution_count": null,
      "metadata": {
        "vscode": {
          "languageId": "r"
        }
      },
      "outputs": [],
      "source": [
        "# Start resource monitoring in background\n",
        "monitor_resources <- function() {\n",
        "  cat(\"Monitoring resources...\\n\")\n",
        "  while (!exists(\"stop_monitoring\") || !stop_monitoring) {\n",
        "    # Monitoring CPU and Memory usage\n",
        "    mem_usage <- memory.size()\n",
        "    cat(\"Memory Usage:\", mem_usage, \"MB\\n\")\n",
        "    \n",
        "    cpu_usage <- system(\"wmic cpu get loadpercentage\", intern = TRUE)\n",
        "    cat(\"CPU Usage:\", cpu_usage[2], \"%\\n\")\n",
        "    \n",
        "    Sys.sleep(5)  # Adjust the interval as needed\n",
        "  }\n",
        "}\n",
        "\n",
        "# Start monitoring\n",
        "monitor_resources()\n"
      ]
    },
    {
      "cell_type": "code",
      "execution_count": 2,
      "metadata": {
        "colab": {
          "base_uri": "https://localhost:8080/"
        },
        "id": "rbAW7KIpDW1J",
        "outputId": "c0ae9145-b8e3-48a3-9bfd-c4c1e56b18af",
        "vscode": {
          "languageId": "r"
        }
      },
      "outputs": [
        {
          "name": "stderr",
          "output_type": "stream",
          "text": [
            "Warning message:\n",
            "\"package 'ggplot2' was built under R version 4.4.2\"\n",
            "Installing package into 'C:/Users/hanim/AppData/Local/R/win-library/4.4'\n",
            "(as 'lib' is unspecified)\n",
            "\n"
          ]
        },
        {
          "name": "stdout",
          "output_type": "stream",
          "text": [
            "package 'corrplot' successfully unpacked and MD5 sums checked\n",
            "\n",
            "The downloaded binary packages are in\n",
            "\tC:\\Users\\hanim\\AppData\\Local\\Temp\\RtmpsbI9dO\\downloaded_packages\n"
          ]
        },
        {
          "name": "stderr",
          "output_type": "stream",
          "text": [
            "Warning message:\n",
            "\"package 'corrplot' was built under R version 4.4.2\"\n",
            "corrplot 0.95 loaded\n",
            "\n"
          ]
        },
        {
          "name": "stdout",
          "output_type": "stream",
          "text": [
            "Rows: 768\n",
            "Columns: 9\n",
            "$ Pregnancies              \u001b[3m\u001b[90m<int>\u001b[39m\u001b[23m 6, 1, 8, 1, 0, 5, 3, 10, 2, 8, 4, 10, 10, 1, …\n",
            "$ Glucose                  \u001b[3m\u001b[90m<int>\u001b[39m\u001b[23m 148, 85, 183, 89, 137, 116, 78, 115, 197, 125…\n",
            "$ BloodPressure            \u001b[3m\u001b[90m<int>\u001b[39m\u001b[23m 72, 66, 64, 66, 40, 74, 50, 0, 70, 96, 92, 74…\n",
            "$ SkinThickness            \u001b[3m\u001b[90m<int>\u001b[39m\u001b[23m 35, 29, 0, 23, 35, 0, 32, 0, 45, 0, 0, 0, 0, …\n",
            "$ Insulin                  \u001b[3m\u001b[90m<int>\u001b[39m\u001b[23m 0, 0, 0, 94, 168, 0, 88, 0, 543, 0, 0, 0, 0, …\n",
            "$ BMI                      \u001b[3m\u001b[90m<dbl>\u001b[39m\u001b[23m 33.6, 26.6, 23.3, 28.1, 43.1, 25.6, 31.0, 35.…\n",
            "$ DiabetesPedigreeFunction \u001b[3m\u001b[90m<dbl>\u001b[39m\u001b[23m 0.627, 0.351, 0.672, 0.167, 2.288, 0.201, 0.2…\n",
            "$ Age                      \u001b[3m\u001b[90m<int>\u001b[39m\u001b[23m 50, 31, 32, 21, 33, 30, 26, 29, 53, 54, 30, 3…\n",
            "$ Outcome                  \u001b[3m\u001b[90m<int>\u001b[39m\u001b[23m 1, 0, 1, 0, 1, 0, 1, 0, 1, 1, 0, 1, 0, 1, 1, …\n"
          ]
        }
      ],
      "source": [
        "# Load necessary libraries\n",
        "library(dplyr)\n",
        "library(ggplot2)\n",
        "install.packages(\"corrplot\")\n",
        "library(corrplot)\n",
        "\n",
        "# Load the dataset\n",
        "data <- read.csv(\"diabetes.csv\")\n",
        "\n",
        "# Glimpse of the data\n",
        "glimpse(data)"
      ]
    },
    {
      "cell_type": "markdown",
      "metadata": {
        "id": "RWLod3ShCt39"
      },
      "source": [
        "**Summary Statistics**"
      ]
    },
    {
      "cell_type": "code",
      "execution_count": 3,
      "metadata": {
        "colab": {
          "base_uri": "https://localhost:8080/",
          "height": 149
        },
        "id": "K0ybsYpqCz_b",
        "outputId": "8a36dcae-2f14-42b6-c071-68bdc4df9c8e",
        "vscode": {
          "languageId": "r"
        }
      },
      "outputs": [
        {
          "name": "stderr",
          "output_type": "stream",
          "text": [
            "Warning message:\n",
            "\"\u001b[1m\u001b[22mThere was 1 warning in `summarise()`.\n",
            "\u001b[1m\u001b[22m\u001b[36mℹ\u001b[39m In argument: `across(...)`.\n",
            "Caused by warning:\n",
            "\u001b[1m\u001b[22m\u001b[33m!\u001b[39m The `...` argument of `across()` is deprecated as of dplyr 1.1.0.\n",
            "Supply arguments directly to `.fns` through an anonymous function instead.\n",
            "\n",
            "  # Previously\n",
            "  across(a:b, mean, na.rm = TRUE)\n",
            "\n",
            "  # Now\n",
            "  across(a:b, \\(x) mean(x, na.rm = TRUE))\"\n"
          ]
        },
        {
          "data": {
            "text/html": [
              "<table class=\"dataframe\">\n",
              "<caption>A data.frame: 1 × 36</caption>\n",
              "<thead>\n",
              "\t<tr><th scope=col>Pregnancies_mean</th><th scope=col>Pregnancies_sd</th><th scope=col>Pregnancies_min</th><th scope=col>Pregnancies_max</th><th scope=col>Glucose_mean</th><th scope=col>Glucose_sd</th><th scope=col>Glucose_min</th><th scope=col>Glucose_max</th><th scope=col>BloodPressure_mean</th><th scope=col>BloodPressure_sd</th><th scope=col>⋯</th><th scope=col>DiabetesPedigreeFunction_min</th><th scope=col>DiabetesPedigreeFunction_max</th><th scope=col>Age_mean</th><th scope=col>Age_sd</th><th scope=col>Age_min</th><th scope=col>Age_max</th><th scope=col>Outcome_mean</th><th scope=col>Outcome_sd</th><th scope=col>Outcome_min</th><th scope=col>Outcome_max</th></tr>\n",
              "\t<tr><th scope=col>&lt;dbl&gt;</th><th scope=col>&lt;dbl&gt;</th><th scope=col>&lt;int&gt;</th><th scope=col>&lt;int&gt;</th><th scope=col>&lt;dbl&gt;</th><th scope=col>&lt;dbl&gt;</th><th scope=col>&lt;int&gt;</th><th scope=col>&lt;int&gt;</th><th scope=col>&lt;dbl&gt;</th><th scope=col>&lt;dbl&gt;</th><th scope=col>⋯</th><th scope=col>&lt;dbl&gt;</th><th scope=col>&lt;dbl&gt;</th><th scope=col>&lt;dbl&gt;</th><th scope=col>&lt;dbl&gt;</th><th scope=col>&lt;int&gt;</th><th scope=col>&lt;int&gt;</th><th scope=col>&lt;dbl&gt;</th><th scope=col>&lt;dbl&gt;</th><th scope=col>&lt;int&gt;</th><th scope=col>&lt;int&gt;</th></tr>\n",
              "</thead>\n",
              "<tbody>\n",
              "\t<tr><td>3.845052</td><td>3.369578</td><td>0</td><td>17</td><td>120.8945</td><td>31.97262</td><td>0</td><td>199</td><td>69.10547</td><td>19.35581</td><td>⋯</td><td>0.078</td><td>2.42</td><td>33.24089</td><td>11.76023</td><td>21</td><td>81</td><td>0.3489583</td><td>0.4769514</td><td>0</td><td>1</td></tr>\n",
              "</tbody>\n",
              "</table>\n"
            ],
            "text/latex": [
              "A data.frame: 1 × 36\n",
              "\\begin{tabular}{lllllllllllllllllllll}\n",
              " Pregnancies\\_mean & Pregnancies\\_sd & Pregnancies\\_min & Pregnancies\\_max & Glucose\\_mean & Glucose\\_sd & Glucose\\_min & Glucose\\_max & BloodPressure\\_mean & BloodPressure\\_sd & ⋯ & DiabetesPedigreeFunction\\_min & DiabetesPedigreeFunction\\_max & Age\\_mean & Age\\_sd & Age\\_min & Age\\_max & Outcome\\_mean & Outcome\\_sd & Outcome\\_min & Outcome\\_max\\\\\n",
              " <dbl> & <dbl> & <int> & <int> & <dbl> & <dbl> & <int> & <int> & <dbl> & <dbl> & ⋯ & <dbl> & <dbl> & <dbl> & <dbl> & <int> & <int> & <dbl> & <dbl> & <int> & <int>\\\\\n",
              "\\hline\n",
              "\t 3.845052 & 3.369578 & 0 & 17 & 120.8945 & 31.97262 & 0 & 199 & 69.10547 & 19.35581 & ⋯ & 0.078 & 2.42 & 33.24089 & 11.76023 & 21 & 81 & 0.3489583 & 0.4769514 & 0 & 1\\\\\n",
              "\\end{tabular}\n"
            ],
            "text/markdown": [
              "\n",
              "A data.frame: 1 × 36\n",
              "\n",
              "| Pregnancies_mean &lt;dbl&gt; | Pregnancies_sd &lt;dbl&gt; | Pregnancies_min &lt;int&gt; | Pregnancies_max &lt;int&gt; | Glucose_mean &lt;dbl&gt; | Glucose_sd &lt;dbl&gt; | Glucose_min &lt;int&gt; | Glucose_max &lt;int&gt; | BloodPressure_mean &lt;dbl&gt; | BloodPressure_sd &lt;dbl&gt; | ⋯ ⋯ | DiabetesPedigreeFunction_min &lt;dbl&gt; | DiabetesPedigreeFunction_max &lt;dbl&gt; | Age_mean &lt;dbl&gt; | Age_sd &lt;dbl&gt; | Age_min &lt;int&gt; | Age_max &lt;int&gt; | Outcome_mean &lt;dbl&gt; | Outcome_sd &lt;dbl&gt; | Outcome_min &lt;int&gt; | Outcome_max &lt;int&gt; |\n",
              "|---|---|---|---|---|---|---|---|---|---|---|---|---|---|---|---|---|---|---|---|---|\n",
              "| 3.845052 | 3.369578 | 0 | 17 | 120.8945 | 31.97262 | 0 | 199 | 69.10547 | 19.35581 | ⋯ | 0.078 | 2.42 | 33.24089 | 11.76023 | 21 | 81 | 0.3489583 | 0.4769514 | 0 | 1 |\n",
              "\n"
            ],
            "text/plain": [
              "  Pregnancies_mean Pregnancies_sd Pregnancies_min Pregnancies_max Glucose_mean\n",
              "1 3.845052         3.369578       0               17              120.8945    \n",
              "  Glucose_sd Glucose_min Glucose_max BloodPressure_mean BloodPressure_sd ⋯\n",
              "1 31.97262   0           199         69.10547           19.35581         ⋯\n",
              "  DiabetesPedigreeFunction_min DiabetesPedigreeFunction_max Age_mean Age_sd  \n",
              "1 0.078                        2.42                         33.24089 11.76023\n",
              "  Age_min Age_max Outcome_mean Outcome_sd Outcome_min Outcome_max\n",
              "1 21      81      0.3489583    0.4769514  0           1          "
            ]
          },
          "metadata": {},
          "output_type": "display_data"
        }
      ],
      "source": [
        "# Summary statistics for all variables\n",
        "data %>%\n",
        "  summarise(across(everything(), list(mean = mean, sd = sd, min = min, max = max), na.rm = TRUE))"
      ]
    },
    {
      "cell_type": "markdown",
      "metadata": {
        "id": "C0ikGFJSDI75"
      },
      "source": [
        "**Missing Value Analysis**"
      ]
    },
    {
      "cell_type": "code",
      "execution_count": 4,
      "metadata": {
        "colab": {
          "base_uri": "https://localhost:8080/",
          "height": 129
        },
        "id": "su7Waaw4DNgD",
        "outputId": "e7a7a9f0-0936-443b-d936-a11bf444c6b9",
        "vscode": {
          "languageId": "r"
        }
      },
      "outputs": [
        {
          "data": {
            "text/html": [
              "<table class=\"dataframe\">\n",
              "<caption>A data.frame: 1 × 9</caption>\n",
              "<thead>\n",
              "\t<tr><th scope=col>Pregnancies</th><th scope=col>Glucose</th><th scope=col>BloodPressure</th><th scope=col>SkinThickness</th><th scope=col>Insulin</th><th scope=col>BMI</th><th scope=col>DiabetesPedigreeFunction</th><th scope=col>Age</th><th scope=col>Outcome</th></tr>\n",
              "\t<tr><th scope=col>&lt;int&gt;</th><th scope=col>&lt;int&gt;</th><th scope=col>&lt;int&gt;</th><th scope=col>&lt;int&gt;</th><th scope=col>&lt;int&gt;</th><th scope=col>&lt;int&gt;</th><th scope=col>&lt;int&gt;</th><th scope=col>&lt;int&gt;</th><th scope=col>&lt;int&gt;</th></tr>\n",
              "</thead>\n",
              "<tbody>\n",
              "\t<tr><td>0</td><td>0</td><td>0</td><td>0</td><td>0</td><td>0</td><td>0</td><td>0</td><td>0</td></tr>\n",
              "</tbody>\n",
              "</table>\n"
            ],
            "text/latex": [
              "A data.frame: 1 × 9\n",
              "\\begin{tabular}{lllllllll}\n",
              " Pregnancies & Glucose & BloodPressure & SkinThickness & Insulin & BMI & DiabetesPedigreeFunction & Age & Outcome\\\\\n",
              " <int> & <int> & <int> & <int> & <int> & <int> & <int> & <int> & <int>\\\\\n",
              "\\hline\n",
              "\t 0 & 0 & 0 & 0 & 0 & 0 & 0 & 0 & 0\\\\\n",
              "\\end{tabular}\n"
            ],
            "text/markdown": [
              "\n",
              "A data.frame: 1 × 9\n",
              "\n",
              "| Pregnancies &lt;int&gt; | Glucose &lt;int&gt; | BloodPressure &lt;int&gt; | SkinThickness &lt;int&gt; | Insulin &lt;int&gt; | BMI &lt;int&gt; | DiabetesPedigreeFunction &lt;int&gt; | Age &lt;int&gt; | Outcome &lt;int&gt; |\n",
              "|---|---|---|---|---|---|---|---|---|\n",
              "| 0 | 0 | 0 | 0 | 0 | 0 | 0 | 0 | 0 |\n",
              "\n"
            ],
            "text/plain": [
              "  Pregnancies Glucose BloodPressure SkinThickness Insulin BMI\n",
              "1 0           0       0             0             0       0  \n",
              "  DiabetesPedigreeFunction Age Outcome\n",
              "1 0                        0   0      "
            ]
          },
          "metadata": {},
          "output_type": "display_data"
        }
      ],
      "source": [
        "# Check for missing values\n",
        "data %>%\n",
        "  summarise(across(everything(), ~sum(is.na(.))))"
      ]
    },
    {
      "cell_type": "markdown",
      "metadata": {
        "id": "z37QA0NSDSsZ"
      },
      "source": [
        "**Distribution of Variables**"
      ]
    },
    {
      "cell_type": "code",
      "execution_count": 5,
      "metadata": {
        "colab": {
          "base_uri": "https://localhost:8080/",
          "height": 1000
        },
        "id": "NfHi_FaaDYyE",
        "outputId": "f1243d49-b8d6-4f75-9dd0-28b536ee5dd2",
        "vscode": {
          "languageId": "r"
        }
      },
      "outputs": [
        {
          "name": "stderr",
          "output_type": "stream",
          "text": [
            "Warning message:\n",
            "\"\u001b[1m\u001b[22m`aes_string()` was deprecated in ggplot2 3.0.0.\n",
            "\u001b[36mℹ\u001b[39m Please use tidy evaluation idioms with `aes()`.\n",
            "\u001b[36mℹ\u001b[39m See also `vignette(\"ggplot2-in-packages\")` for more information.\"\n"
          ]
        },
        {
          "data": {
            "image/png": "[encoded data removed]",
            "text/plain": [
              "plot without title"
            ]
          },
          "metadata": {
            "image/png": {
              "height": 420,
              "width": 420
            }
          },
          "output_type": "display_data"
        },
        {
          "data": {
            "image/png": "[encoded data removed]",
            "text/plain": [
              "plot without title"
            ]
          },
          "metadata": {
            "image/png": {
              "height": 420,
              "width": 420
            }
          },
          "output_type": "display_data"
        },
        {
          "data": {
            "image/png": "[encoded data removed]",
            "text/plain": [
              "plot without title"
            ]
          },
          "metadata": {
            "image/png": {
              "height": 420,
              "width": 420
            }
          },
          "output_type": "display_data"
        },
        {
          "data": {
            "image/png": "[encoded data removed]",
            "text/plain": [
              "plot without title"
            ]
          },
          "metadata": {
            "image/png": {
              "height": 420,
              "width": 420
            }
          },
          "output_type": "display_data"
        },
        {
          "data": {
            "image/png": "[encoded data removed]",
            "text/plain": [
              "plot without title"
            ]
          },
          "metadata": {
            "image/png": {
              "height": 420,
              "width": 420
            }
          },
          "output_type": "display_data"
        },
        {
          "data": {
            "image/png": "[encoded data removed]",
            "text/plain": [
              "plot without title"
            ]
          },
          "metadata": {
            "image/png": {
              "height": 420,
              "width": 420
            }
          },
          "output_type": "display_data"
        },
        {
          "data": {
            "image/png": "[encoded data removed]",
            "text/plain": [
              "plot without title"
            ]
          },
          "metadata": {
            "image/png": {
              "height": 420,
              "width": 420
            }
          },
          "output_type": "display_data"
        },
        {
          "data": {
            "image/png": "[encoded data removed]",
            "text/plain": [
              "plot without title"
            ]
          },
          "metadata": {
            "image/png": {
              "height": 420,
              "width": 420
            }
          },
          "output_type": "display_data"
        },
        {
          "data": {
            "image/png": "[encoded data removed]",
            "text/plain": [
              "plot without title"
            ]
          },
          "metadata": {
            "image/png": {
              "height": 420,
              "width": 420
            }
          },
          "output_type": "display_data"
        }
      ],
      "source": [
        "# Histogram for numerical variables\n",
        "numeric_cols <- colnames(data)[sapply(data, is.numeric)]\n",
        "for (col in numeric_cols) {\n",
        "  print(\n",
        "    ggplot(data, aes_string(x = col)) +\n",
        "      geom_histogram(binwidth = 10, fill = \"blue\", color = \"black\", alpha = 0.7) +\n",
        "      labs(title = paste(\"Distribution of\", col), x = col, y = \"Frequency\")\n",
        "  )\n",
        "}"
      ]
    },
    {
      "cell_type": "markdown",
      "metadata": {
        "id": "U29CizUhDi8y"
      },
      "source": [
        "**Correlation Analysis**"
      ]
    },
    {
      "cell_type": "code",
      "execution_count": 6,
      "metadata": {
        "colab": {
          "base_uri": "https://localhost:8080/",
          "height": 958
        },
        "id": "dPdblZyPDoDP",
        "outputId": "ac6814aa-67b5-4602-f893-e24abeceb144",
        "vscode": {
          "languageId": "r"
        }
      },
      "outputs": [
        {
          "name": "stdout",
          "output_type": "stream",
          "text": [
            "                         Pregnancies    Glucose BloodPressure SkinThickness\n",
            "Pregnancies               1.00000000 0.12945867    0.14128198   -0.08167177\n",
            "Glucose                   0.12945867 1.00000000    0.15258959    0.05732789\n",
            "BloodPressure             0.14128198 0.15258959    1.00000000    0.20737054\n",
            "SkinThickness            -0.08167177 0.05732789    0.20737054    1.00000000\n",
            "Insulin                  -0.07353461 0.33135711    0.08893338    0.43678257\n",
            "BMI                       0.01768309 0.22107107    0.28180529    0.39257320\n",
            "DiabetesPedigreeFunction -0.03352267 0.13733730    0.04126495    0.18392757\n",
            "Age                       0.54434123 0.26351432    0.23952795   -0.11397026\n",
            "Outcome                   0.22189815 0.46658140    0.06506836    0.07475223\n",
            "                             Insulin        BMI DiabetesPedigreeFunction\n",
            "Pregnancies              -0.07353461 0.01768309              -0.03352267\n",
            "Glucose                   0.33135711 0.22107107               0.13733730\n",
            "BloodPressure             0.08893338 0.28180529               0.04126495\n",
            "SkinThickness             0.43678257 0.39257320               0.18392757\n",
            "Insulin                   1.00000000 0.19785906               0.18507093\n",
            "BMI                       0.19785906 1.00000000               0.14064695\n",
            "DiabetesPedigreeFunction  0.18507093 0.14064695               1.00000000\n",
            "Age                      -0.04216295 0.03624187               0.03356131\n",
            "Outcome                   0.13054795 0.29269466               0.17384407\n",
            "                                 Age    Outcome\n",
            "Pregnancies               0.54434123 0.22189815\n",
            "Glucose                   0.26351432 0.46658140\n",
            "BloodPressure             0.23952795 0.06506836\n",
            "SkinThickness            -0.11397026 0.07475223\n",
            "Insulin                  -0.04216295 0.13054795\n",
            "BMI                       0.03624187 0.29269466\n",
            "DiabetesPedigreeFunction  0.03356131 0.17384407\n",
            "Age                       1.00000000 0.23835598\n",
            "Outcome                   0.23835598 1.00000000\n"
          ]
        },
        {
          "data": {
            "image/png": "[encoded data removed]",
            "text/plain": [
              "Plot with title \"\""
            ]
          },
          "metadata": {
            "image/png": {
              "height": 420,
              "width": 420
            }
          },
          "output_type": "display_data"
        }
      ],
      "source": [
        "# Correlation matrix\n",
        "cor_matrix <- cor(data %>% select_if(is.numeric), use = \"complete.obs\")\n",
        "print(cor_matrix)\n",
        "\n",
        "# Visualize correlations\n",
        "library(corrplot)\n",
        "corrplot::corrplot(cor_matrix, method = \"circle\")"
      ]
    },
    {
      "cell_type": "markdown",
      "metadata": {
        "id": "asZpNYt7ECDB"
      },
      "source": [
        "**Outcome Analysis**"
      ]
    },
    {
      "cell_type": "code",
      "execution_count": 7,
      "metadata": {
        "colab": {
          "base_uri": "https://localhost:8080/",
          "height": 437
        },
        "id": "9D4qfTrIEKGw",
        "outputId": "579d749b-bd87-484f-8d8d-0d9dfcfb8927",
        "vscode": {
          "languageId": "r"
        }
      },
      "outputs": [
        {
          "data": {
            "image/png": "[encoded data removed]",
            "text/plain": [
              "plot without title"
            ]
          },
          "metadata": {
            "image/png": {
              "height": 420,
              "width": 420
            }
          },
          "output_type": "display_data"
        }
      ],
      "source": [
        "# Distribution of Outcome variable\n",
        "data %>%\n",
        "  group_by(Outcome) %>%\n",
        "  summarise(Count = n()) %>%\n",
        "  ggplot(aes(x = as.factor(Outcome), y = Count, fill = as.factor(Outcome))) +\n",
        "  geom_bar(stat = \"identity\") +\n",
        "  labs(title = \"Outcome Distribution\", x = \"Outcome (1 = Diabetes, 0 = No Diabetes)\", y = \"Count\")"
      ]
    },
    {
      "cell_type": "markdown",
      "metadata": {
        "id": "moiaGYQKEO8T"
      },
      "source": [
        "**Relationships Between Variables**"
      ]
    },
    {
      "cell_type": "code",
      "execution_count": 8,
      "metadata": {
        "colab": {
          "base_uri": "https://localhost:8080/",
          "height": 437
        },
        "id": "CqeWDos4ERrg",
        "outputId": "a722d1a6-cad2-4ce3-d885-538db0a99006",
        "vscode": {
          "languageId": "r"
        }
      },
      "outputs": [
        {
          "data": {
            "image/png": "[encoded data removed]",
            "text/plain": [
              "plot without title"
            ]
          },
          "metadata": {
            "image/png": {
              "height": 420,
              "width": 420
            }
          },
          "output_type": "display_data"
        }
      ],
      "source": [
        "# Scatter plot between Glucose and BMI grouped by Outcome\n",
        "ggplot(data, aes(x = Glucose, y = BMI, color = as.factor(Outcome))) +\n",
        "  geom_point(alpha = 0.7) +\n",
        "  labs(title = \"Glucose vs BMI by Outcome\", x = \"Glucose\", y = \"BMI\")"
      ]
    },
    {
      "cell_type": "markdown",
      "metadata": {
        "id": "JRbtmkccEWoP"
      },
      "source": [
        "**Age Group Analysis**"
      ]
    },
    {
      "cell_type": "code",
      "execution_count": 9,
      "metadata": {
        "colab": {
          "base_uri": "https://localhost:8080/",
          "height": 472
        },
        "id": "joAsYwtDEZPC",
        "outputId": "7e881e65-2384-4c1f-92a0-a383cbf2b0f3",
        "vscode": {
          "languageId": "r"
        }
      },
      "outputs": [
        {
          "name": "stderr",
          "output_type": "stream",
          "text": [
            "\u001b[1m\u001b[22m`summarise()` has grouped output by 'AgeGroup'. You can override using the\n",
            "`.groups` argument.\n"
          ]
        },
        {
          "data": {
            "image/png": "[encoded data removed]",
            "text/plain": [
              "plot without title"
            ]
          },
          "metadata": {
            "image/png": {
              "height": 420,
              "width": 420
            }
          },
          "output_type": "display_data"
        }
      ],
      "source": [
        "# Categorize Age into groups\n",
        "data <- data %>%\n",
        "  mutate(AgeGroup = case_when(\n",
        "    Age < 30 ~ \"Under 30\",\n",
        "    Age >= 30 & Age < 50 ~ \"30-49\",\n",
        "    Age >= 50 ~ \"50 and above\"\n",
        "  ))\n",
        "\n",
        "# Age group distribution by Outcome\n",
        "data %>%\n",
        "  group_by(AgeGroup, Outcome) %>%\n",
        "  summarise(Count = n()) %>%\n",
        "  ggplot(aes(x = AgeGroup, y = Count, fill = as.factor(Outcome))) +\n",
        "  geom_bar(stat = \"identity\", position = \"dodge\") +\n",
        "  labs(title = \"Age Group Distribution by Outcome\", x = \"Age Group\", y = \"Count\")"
      ]
    },
    {
      "cell_type": "markdown",
      "metadata": {
        "id": "9LrX-VFu0EIY"
      },
      "source": [
        "# Modelling"
      ]
    },
    {
      "cell_type": "markdown",
      "metadata": {
        "id": "LtztWZPK0Hw4"
      },
      "source": [
        "## Classification Modelling"
      ]
    },
    {
      "cell_type": "markdown",
      "metadata": {
        "id": "J-oepjgYg66Q"
      },
      "source": [
        "Split test train"
      ]
    },
    {
      "cell_type": "code",
      "execution_count": 29,
      "metadata": {
        "colab": {
          "base_uri": "https://localhost:8080/"
        },
        "collapsed": true,
        "id": "R2X9j4yK0Gvv",
        "outputId": "f4585ddf-f1c6-43e3-c794-c2fba21dfe5f",
        "vscode": {
          "languageId": "r"
        }
      },
      "outputs": [
        {
          "name": "stderr",
          "output_type": "stream",
          "text": [
            "Warning message:\n",
            "\"package 'caret' is in use and will not be installed\"\n"
          ]
        }
      ],
      "source": [
        "install.packages(\"caret\")\n",
        "library(caret)\n",
        "\n",
        "set.seed(123)\n",
        "trainIndex <- createDataPartition(data$Outcome, p = 0.8, list = FALSE)\n",
        "\n",
        "# Create training and testing sets\n",
        "train <- data[trainIndex, ]\n",
        "test <- data[-trainIndex, ]\n",
        "\n",
        "# Convert Outcome to factor\n",
        "train$Outcome <- as.factor(train$Outcome)\n",
        "test$Outcome <- as.factor(test$Outcome)"
      ]
    },
    {
      "cell_type": "markdown",
      "metadata": {
        "id": "pYJTnU_cWmvl"
      },
      "source": [
        "### Logistic Regression"
      ]
    },
    {
      "cell_type": "code",
      "execution_count": 30,
      "metadata": {
        "colab": {
          "base_uri": "https://localhost:8080/",
          "height": 433
        },
        "collapsed": true,
        "id": "uYFPC6s19BPd",
        "outputId": "ba49f19d-3954-4dcf-eaa4-e3accc8ac2a1",
        "vscode": {
          "languageId": "r"
        }
      },
      "outputs": [
        {
          "data": {
            "text/plain": [
              "\n",
              "Call:\n",
              "glm(formula = Outcome ~ Pregnancies + Glucose + BMI + DiabetesPedigreeFunction + \n",
              "    BloodPressure, family = binomial, data = train)\n",
              "\n",
              "Coefficients:\n",
              "                          Estimate Std. Error z value Pr(>|z|)    \n",
              "(Intercept)              -7.781487   0.730083 -10.658  < 2e-16 ***\n",
              "Pregnancies               0.148092   0.031149   4.754 1.99e-06 ***\n",
              "Glucose                   0.034966   0.003868   9.041  < 2e-16 ***\n",
              "BMI                       0.081138   0.015726   5.159 2.48e-07 ***\n",
              "DiabetesPedigreeFunction  0.766364   0.316109   2.424   0.0153 *  \n",
              "BloodPressure            -0.011987   0.005542  -2.163   0.0305 *  \n",
              "---\n",
              "Signif. codes:  0 '***' 0.001 '**' 0.01 '*' 0.05 '.' 0.1 ' ' 1\n",
              "\n",
              "(Dispersion parameter for binomial family taken to be 1)\n",
              "\n",
              "    Null deviance: 797.28  on 614  degrees of freedom\n",
              "Residual deviance: 587.34  on 609  degrees of freedom\n",
              "AIC: 599.34\n",
              "\n",
              "Number of Fisher Scoring iterations: 5\n"
            ]
          },
          "metadata": {},
          "output_type": "display_data"
        }
      ],
      "source": [
        "logistic_model <- glm(Outcome ~ Pregnancies + Glucose + BMI + DiabetesPedigreeFunction + BloodPressure, data = train, family = binomial)\n",
        "\n",
        "# Model summary\n",
        "summary(logistic_model)\n",
        "\n",
        "# Predict probabilities and classes\n",
        "predicted_probs <- predict(logistic_model, newdata = test, type = \"response\")\n",
        "predicted_classes <- ifelse(predicted_probs > 0.5, 1, 0)"
      ]
    },
    {
      "cell_type": "markdown",
      "metadata": {
        "id": "Qc6ocX-8Ym8T"
      },
      "source": [
        "### Support Vector Machine (SVM)"
      ]
    },
    {
      "cell_type": "code",
      "execution_count": 31,
      "metadata": {
        "colab": {
          "base_uri": "https://localhost:8080/",
          "height": 415
        },
        "collapsed": true,
        "id": "8efWQ8mIYtTB",
        "outputId": "174f596d-0245-464c-f3db-54f2418ae784",
        "vscode": {
          "languageId": "r"
        }
      },
      "outputs": [
        {
          "data": {
            "text/plain": [
              "\n",
              "Call:\n",
              "svm(formula = Outcome ~ Pregnancies + Glucose + BMI + DiabetesPedigreeFunction + \n",
              "    BloodPressure, data = train, kernel = \"radial\", probability = TRUE)\n",
              "\n",
              "\n",
              "Parameters:\n",
              "   SVM-Type:  C-classification \n",
              " SVM-Kernel:  radial \n",
              "       cost:  1 \n",
              "\n",
              "Number of Support Vectors:  347\n",
              "\n",
              " ( 177 170 )\n",
              "\n",
              "\n",
              "Number of Classes:  2 \n",
              "\n",
              "Levels: \n",
              " 0 1\n",
              "\n",
              "\n"
            ]
          },
          "metadata": {},
          "output_type": "display_data"
        }
      ],
      "source": [
        "library(e1071)\n",
        "\n",
        "svm_model <- svm(Outcome ~  Pregnancies + Glucose + BMI + DiabetesPedigreeFunction + BloodPressure, data=train, kernel='radial', probability= TRUE)\n",
        "\n",
        "#Model summary\n",
        "summary(svm_model)\n",
        "\n",
        "svm_predictions <- predict(svm_model, newdata = test, probability = TRUE)"
      ]
    },
    {
      "cell_type": "markdown",
      "metadata": {
        "id": "DyYzNQ6ynQho"
      },
      "source": [
        "### Naive Bayes"
      ]
    },
    {
      "cell_type": "code",
      "execution_count": 32,
      "metadata": {
        "colab": {
          "base_uri": "https://localhost:8080/",
          "height": 126
        },
        "collapsed": true,
        "id": "-3M5HKg7nWzf",
        "outputId": "75b235da-4e6b-4737-db0e-2cf1dd893868",
        "vscode": {
          "languageId": "r"
        }
      },
      "outputs": [
        {
          "data": {
            "text/plain": [
              "          Length Class  Mode     \n",
              "apriori   2      table  numeric  \n",
              "tables    5      -none- list     \n",
              "levels    2      -none- character\n",
              "isnumeric 5      -none- logical  \n",
              "call      4      -none- call     "
            ]
          },
          "metadata": {},
          "output_type": "display_data"
        }
      ],
      "source": [
        "nb_model <- naiveBayes(Outcome ~ Pregnancies + Glucose + BMI + DiabetesPedigreeFunction + BloodPressure, data = train)\n",
        "\n",
        "#Model summary\n",
        "summary(nb_model)\n",
        "\n",
        "nb_predictions <- predict(nb_model, newdata = test)"
      ]
    },
    {
      "cell_type": "markdown",
      "metadata": {
        "id": "gTDVVOaW0Kes"
      },
      "source": [
        "### XGBoost"
      ]
    },
    {
      "cell_type": "code",
      "execution_count": 33,
      "metadata": {
        "vscode": {
          "languageId": "r"
        }
      },
      "outputs": [
        {
          "name": "stdout",
          "output_type": "stream",
          "text": [
            "'data.frame':\t615 obs. of  8 variables:\n",
            " $ Pregnancies             : num  1 1 0 5 3 10 8 4 10 10 ...\n",
            " $ Glucose                 : num  85 89 137 116 78 115 125 110 168 139 ...\n",
            " $ BloodPressure           : num  66 66 40 74 50 0 96 92 74 80 ...\n",
            " $ SkinThickness           : num  29 23 35 0 32 0 0 0 0 0 ...\n",
            " $ Insulin                 : num  0 94 168 0 88 0 0 0 0 0 ...\n",
            " $ BMI                     : num  26.6 28.1 43.1 25.6 31 35.3 0 37.6 38 27.1 ...\n",
            " $ DiabetesPedigreeFunction: num  0.351 0.167 2.288 0.201 0.248 ...\n",
            " $ Age                     : num  31 21 33 30 26 29 54 30 34 57 ...\n"
          ]
        }
      ],
      "source": [
        "# Ensure all columns except 'Outcome' are numeric\n",
        "train_numeric <- train[, -9]  # Exclude the Outcome column\n",
        "train_numeric[] <- lapply(train_numeric, as.numeric)  # Convert all columns to numeric\n",
        "\n",
        "# Check if conversion worked\n",
        "str(train_numeric)\n",
        "\n",
        "# Create the DMatrix object\n",
        "train_matrix <- xgb.DMatrix(data = as.matrix(train_numeric), label = train$Outcome)\n"
      ]
    },
    {
      "cell_type": "code",
      "execution_count": 34,
      "metadata": {
        "colab": {
          "base_uri": "https://localhost:8080/"
        },
        "collapsed": true,
        "id": "jq3NRrPb1J88",
        "outputId": "e5c4dc04-5146-4145-f336-04fb341d2915",
        "vscode": {
          "languageId": "r"
        }
      },
      "outputs": [
        {
          "name": "stderr",
          "output_type": "stream",
          "text": [
            "Warning message:\n",
            "\"package 'xgboost' is in use and will not be installed\"\n",
            "Warning message:\n",
            "\"package 'corrplot' is in use and will not be installed\"\n"
          ]
        },
        {
          "name": "stdout",
          "output_type": "stream",
          "text": [
            "'data.frame':\t768 obs. of  9 variables:\n",
            " $ Pregnancies             : int  6 1 8 1 0 5 3 10 2 8 ...\n",
            " $ Glucose                 : int  148 85 183 89 137 116 78 115 197 125 ...\n",
            " $ BloodPressure           : int  72 66 64 66 40 74 50 0 70 96 ...\n",
            " $ SkinThickness           : int  35 29 0 23 35 0 32 0 45 0 ...\n",
            " $ Insulin                 : int  0 0 0 94 168 0 88 0 543 0 ...\n",
            " $ BMI                     : num  33.6 26.6 23.3 28.1 43.1 25.6 31 35.3 30.5 0 ...\n",
            " $ DiabetesPedigreeFunction: num  0.627 0.351 0.672 0.167 2.288 ...\n",
            " $ Age                     : int  50 31 32 21 33 30 26 29 53 54 ...\n",
            " $ Outcome                 : int  1 0 1 0 1 0 1 0 1 1 ...\n",
            "'data.frame':\t768 obs. of  8 variables:\n",
            " $ Pregnancies             : int  6 1 8 1 0 5 3 10 2 8 ...\n",
            " $ Glucose                 : int  148 85 183 89 137 116 78 115 197 125 ...\n",
            " $ BloodPressure           : int  72 66 64 66 40 74 50 0 70 96 ...\n",
            " $ SkinThickness           : int  35 29 0 23 35 0 32 0 45 0 ...\n",
            " $ Insulin                 : int  0 0 0 94 168 0 88 0 543 0 ...\n",
            " $ BMI                     : num  33.6 26.6 23.3 28.1 43.1 25.6 31 35.3 30.5 0 ...\n",
            " $ DiabetesPedigreeFunction: num  0.627 0.351 0.672 0.167 2.288 ...\n",
            " $ Age                     : int  50 31 32 21 33 30 26 29 53 54 ...\n"
          ]
        },
        {
          "data": {
            "text/html": [
              "0"
            ],
            "text/latex": [
              "0"
            ],
            "text/markdown": [
              "0"
            ],
            "text/plain": [
              "[1] 0"
            ]
          },
          "metadata": {},
          "output_type": "display_data"
        },
        {
          "name": "stdout",
          "output_type": "stream",
          "text": [
            "[1]\ttrain-logloss:0.646806\ttest-logloss:0.661225 \n",
            "Multiple eval metrics are present. Will use test_logloss for early stopping.\n",
            "Will train until test_logloss hasn't improved in 10 rounds.\n",
            "\n",
            "[11]\ttrain-logloss:0.385339\ttest-logloss:0.530634 \n",
            "[21]\ttrain-logloss:0.290012\ttest-logloss:0.501206 \n",
            "[31]\ttrain-logloss:0.238492\ttest-logloss:0.488475 \n",
            "[41]\ttrain-logloss:0.202414\ttest-logloss:0.479103 \n",
            "[51]\ttrain-logloss:0.178139\ttest-logloss:0.481212 \n",
            "Stopping. Best iteration:\n",
            "[47]\ttrain-logloss:0.186442\ttest-logloss:0.476764\n",
            "\n",
            "         Actual\n",
            "Predicted  0  1\n",
            "        0 89 26\n",
            "        1 13 26\n",
            "[1] \"Accuracy:  0.746753246753247\"\n"
          ]
        }
      ],
      "source": [
        "# Load necessary libraries\n",
        "install.packages(\"xgboost\")\n",
        "install.packages(\"corrplot\")\n",
        "library(xgboost)\n",
        "library(corrplot)\n",
        "\n",
        "# Load the dataset\n",
        "data <- read.csv(\"diabetes.csv\")\n",
        "\n",
        "# Glimpse of the data\n",
        "str(data)\n",
        "\n",
        "# Convert all columns except 'Outcome' to numeric\n",
        "data_numeric <- data[, -9]  # Exclude the Outcome column\n",
        "data_numeric[] <- lapply(data_numeric, function(x) {\n",
        "  if (is.factor(x)) {\n",
        "    return(as.numeric(as.character(x)))  # Convert factors to numeric\n",
        "  } else if (is.character(x)) {\n",
        "    return(as.numeric(x))  # If it's a character, try converting to numeric\n",
        "  } else {\n",
        "    return(x)  # If it's already numeric, leave it unchanged\n",
        "  }\n",
        "})\n",
        "\n",
        "# Check if conversion worked and if there are any NA values\n",
        "str(data_numeric)\n",
        "sum(is.na(data_numeric))\n",
        "\n",
        "# Handle missing values (Optional: You can remove NAs or impute them)\n",
        "data_numeric[is.na(data_numeric)] <- sapply(data_numeric, function(x) mean(x, na.rm = TRUE))\n",
        "\n",
        "# Convert 'Outcome' to numeric for xgboost\n",
        "data$Outcome <- as.numeric(as.character(data$Outcome))\n",
        "\n",
        "# Create xgboost matrix\n",
        "xgb_data <- xgb.DMatrix(data = as.matrix(data_numeric), label = data$Outcome)\n",
        "\n",
        "# Split data into training and testing sets (80-20 split)\n",
        "set.seed(123)  # Set a seed for reproducibility\n",
        "train_index <- sample(1:nrow(data), 0.8 * nrow(data))  # 80% for training\n",
        "train <- data[train_index, ]\n",
        "test <- data[-train_index, ]\n",
        "\n",
        "# Create training and test xgboost matrices\n",
        "xgb_train <- xgb.DMatrix(data = as.matrix(train[, -9]), label = train$Outcome)\n",
        "xgb_test <- xgb.DMatrix(data = as.matrix(test[, -9]), label = test$Outcome)\n",
        "\n",
        "# Set parameters for xgboost model\n",
        "params <- list(\n",
        "  booster = \"gbtree\",\n",
        "  objective = \"binary:logistic\",\n",
        "  eval_metric = \"logloss\",\n",
        "  eta = 0.1,\n",
        "  max_depth = 6,\n",
        "  nthread = 2\n",
        ")\n",
        "\n",
        "# Train xgboost model\n",
        "xgb_model <- xgb.train(\n",
        "  params = params,\n",
        "  data = xgb_train,\n",
        "  nrounds = 100,\n",
        "  watchlist = list(train = xgb_train, test = xgb_test),\n",
        "  print_every_n = 10,\n",
        "  early_stopping_rounds = 10\n",
        ")\n",
        "\n",
        "# Predict on test data\n",
        "xgb_predictions <- predict(xgb_model, xgb_test)\n",
        "\n",
        "# Convert predictions to classes (0 or 1)\n",
        "xgb_predicted_classes <- ifelse(xgb_predictions > 0.5, 1, 0)\n",
        "\n",
        "# Evaluate model performance (Optional: Accuracy or AUC, etc.)\n",
        "conf_matrix <- table(Predicted = xgb_predicted_classes, Actual = test$Outcome)\n",
        "print(conf_matrix)\n",
        "accuracy <- sum(diag(conf_matrix)) / sum(conf_matrix)\n",
        "print(paste(\"Accuracy: \", accuracy))\n"
      ]
    },
    {
      "cell_type": "markdown",
      "metadata": {
        "id": "NNL2Aj5Vf0ZK"
      },
      "source": [
        "## Regression Modelling\n",
        "\n",
        "To carry out regression modelling, using the same dataset, 'BMI' is chosen to be the target variable.\n",
        "\n",
        "The regression models chosen to explore with are Linear Regression, Random Forest and XGBoost"
      ]
    },
    {
      "cell_type": "markdown",
      "metadata": {
        "id": "zR1-TzdfiFV6"
      },
      "source": [
        "Train-test split"
      ]
    },
    {
      "cell_type": "code",
      "execution_count": 35,
      "metadata": {
        "id": "v3vxoyvBiSP8",
        "vscode": {
          "languageId": "r"
        }
      },
      "outputs": [],
      "source": [
        "# Select the features and target variable\n",
        "# We will predict BMI using other features\n",
        "dataReg <- subset(data, select = -c(Outcome)) # Exclude the binary outcome column\n",
        "\n",
        "# Split the data into training and testing sets\n",
        "set.seed(123)  # For reproducibility\n",
        "trainIndex <- createDataPartition(dataReg$BMI, p = 0.8, list = FALSE)\n",
        "trainData <- dataReg[trainIndex, ]\n",
        "testData <- dataReg[-trainIndex, ]\n",
        "\n"
      ]
    },
    {
      "cell_type": "code",
      "execution_count": 36,
      "metadata": {
        "id": "ma9Zp85wi0a2",
        "vscode": {
          "languageId": "r"
        }
      },
      "outputs": [
        {
          "name": "stderr",
          "output_type": "stream",
          "text": [
            "Warning message:\n",
            "\"package 'randomForest' is in use and will not be installed\"\n"
          ]
        }
      ],
      "source": [
        "# Install package\n",
        "install.packages(\"randomForest\")\n",
        "# Load the package\n",
        "library(randomForest)"
      ]
    },
    {
      "cell_type": "markdown",
      "metadata": {
        "id": "aBSNki47iVC3"
      },
      "source": [
        "### Linear Regression"
      ]
    },
    {
      "cell_type": "code",
      "execution_count": 37,
      "metadata": {
        "id": "wmTfqr2wiaxY",
        "vscode": {
          "languageId": "r"
        }
      },
      "outputs": [
        {
          "name": "stdout",
          "output_type": "stream",
          "text": [
            "Linear Regression Summary:\n"
          ]
        },
        {
          "data": {
            "text/plain": [
              "\n",
              "Call:\n",
              "lm(formula = .outcome ~ ., data = dat)\n",
              "\n",
              "Residuals:\n",
              "    Min      1Q  Median      3Q     Max \n",
              "-33.852  -3.960  -0.195   3.697  28.249 \n",
              "\n",
              "Coefficients:\n",
              "                          Estimate Std. Error t value Pr(>|t|)    \n",
              "(Intercept)              16.994090   1.521067  11.172  < 2e-16 ***\n",
              "Pregnancies               0.043360   0.101077   0.429   0.6681    \n",
              "Glucose                   0.051422   0.009903   5.193 2.83e-07 ***\n",
              "BloodPressure             0.085203   0.015587   5.466 6.72e-08 ***\n",
              "SkinThickness             0.165516   0.021356   7.751 3.85e-14 ***\n",
              "Insulin                  -0.003679   0.002906  -1.266   0.2060    \n",
              "DiabetesPedigreeFunction  1.434437   0.861407   1.665   0.0964 .  \n",
              "Age                      -0.029789   0.030587  -0.974   0.3305    \n",
              "---\n",
              "Signif. codes:  0 '***' 0.001 '**' 0.01 '*' 0.05 '.' 0.1 ' ' 1\n",
              "\n",
              "Residual standard error: 6.956 on 609 degrees of freedom\n",
              "Multiple R-squared:  0.227,\tAdjusted R-squared:  0.2181 \n",
              "F-statistic: 25.55 on 7 and 609 DF,  p-value: < 2.2e-16\n"
            ]
          },
          "metadata": {},
          "output_type": "display_data"
        }
      ],
      "source": [
        "# Train a linear regression model\n",
        "lm_model <- train(BMI ~ ., data = trainData, method = \"lm\")\n",
        "\n",
        "# View the model summaries\n",
        "cat(\"Linear Regression Summary:\\n\")\n",
        "summary(lm_model$finalModel)\n",
        "\n",
        "\n",
        "# Make predictions on the test set\n",
        "lm_pred <- predict(lm_model, newdata = testData)"
      ]
    },
    {
      "cell_type": "markdown",
      "metadata": {
        "id": "wAUzkF8ticN1"
      },
      "source": [
        "### Random Forest"
      ]
    },
    {
      "cell_type": "code",
      "execution_count": 38,
      "metadata": {
        "id": "eDqzCtUffsZy",
        "vscode": {
          "languageId": "r"
        }
      },
      "outputs": [
        {
          "name": "stdout",
          "output_type": "stream",
          "text": [
            "\n",
            "Random Forest Model Parameters:\n",
            "  mtry\n",
            "1    2\n"
          ]
        }
      ],
      "source": [
        "# Train a random forest regression model\n",
        "rf_model <- train(BMI ~ ., data = trainData, method = \"rf\",\n",
        "                  tuneGrid = expand.grid(.mtry = seq(2, ncol(trainData) - 1, by = 1)),\n",
        "                  trControl = trainControl(method = \"cv\", number = 5))\n",
        "\n",
        "\n",
        "\n",
        "cat(\"\\nRandom Forest Model Parameters:\\n\")\n",
        "print(rf_model$bestTune)\n",
        "\n",
        "rf_pred <- predict(rf_model, newdata = testData)\n"
      ]
    },
    {
      "cell_type": "markdown",
      "metadata": {
        "id": "n9Xsnf7lifPU"
      },
      "source": [
        "### XGBoost"
      ]
    },
    {
      "cell_type": "code",
      "execution_count": 39,
      "metadata": {
        "id": "CUt3pGXsgmiZ",
        "vscode": {
          "languageId": "r"
        }
      },
      "outputs": [
        {
          "name": "stdout",
          "output_type": "stream",
          "text": [
            "\n",
            "XGBoost Model Best Parameters:\n",
            "   nrounds lambda alpha  eta\n",
            "25      50      1     1 0.01\n"
          ]
        }
      ],
      "source": [
        "# Train an XGBoost regression model\n",
        "xgb_model <- train(BMI ~ ., data = trainData, method = \"xgbLinear\",\n",
        "                   tuneGrid = expand.grid(.nrounds = seq(50, 200, by = 50),\n",
        "                                          .lambda = c(0, 0.1, 1),\n",
        "                                          .alpha = c(0, 0.1, 1),\n",
        "                                          .eta = c(0.01, 0.1, 0.3)),\n",
        "                   trControl = trainControl(method = \"cv\", number = 5))\n",
        "\n",
        "cat(\"\\nXGBoost Model Best Parameters:\\n\")\n",
        "print(xgb_model$bestTune)\n",
        "\n",
        "\n",
        "xgb_pred <- predict(xgb_model, newdata = testData)"
      ]
    },
    {
      "cell_type": "markdown",
      "metadata": {},
      "source": [
        "# Evaluation"
      ]
    },
    {
      "cell_type": "code",
      "execution_count": 40,
      "metadata": {
        "vscode": {
          "languageId": "r"
        }
      },
      "outputs": [
        {
          "name": "stdout",
          "output_type": "stream",
          "text": [
            "Resource monitoring has stopped.\n"
          ]
        }
      ],
      "source": [
        "# Last cell: Set flag to stop monitoring\n",
        "stop_monitoring <- TRUE\n",
        "cat(\"Resource monitoring has stopped.\\n\")"
      ]
    }
  ],
  "metadata": {
    "colab": {
      "include_colab_link": true,
      "provenance": [],
      "toc_visible": true
    },
    "kernelspec": {
      "display_name": "R",
      "language": "R",
      "name": "ir"
    },
    "language_info": {
      "codemirror_mode": "r",
      "file_extension": ".r",
      "mimetype": "text/x-r-source",
      "name": "R",
      "pygments_lexer": "r",
      "version": "4.4.1"
    }
  },
  "nbformat": 4,
  "nbformat_minor": 0
}
